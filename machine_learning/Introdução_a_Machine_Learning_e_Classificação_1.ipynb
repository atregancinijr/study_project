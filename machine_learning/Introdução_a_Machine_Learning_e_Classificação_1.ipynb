{
  "nbformat": 4,
  "nbformat_minor": 0,
  "metadata": {
    "colab": {
      "name": "Introdução a Machine Learning e Classificação - 1.ipynb",
      "provenance": [],
      "collapsed_sections": []
    },
    "kernelspec": {
      "name": "python3",
      "display_name": "Python 3"
    },
    "language_info": {
      "name": "python"
    }
  },
  "cells": [
    {
      "cell_type": "code",
      "execution_count": null,
      "metadata": {
        "id": "Nc_za3gHVch4"
      },
      "outputs": [],
      "source": [
        "#features (1 = sim, 0 = não)\n",
        "# 1º Pelo longo?\n",
        "# 2º perna curta?\n",
        "# 3º late?\n",
        "\n",
        "porco1 = [0, 1, 0]\n",
        "porco2 = [0, 1, 1] #porco especial kkk\n",
        "porco3 = [1, 1, 0]\n",
        "\n",
        "cachorro1 = [0, 1, 1]\n",
        "cachorro2 = [1, 0, 1]\n",
        "cachorro3 = [1, 1, 1]\n",
        "\n",
        "#1 => porco; 0 => cachorro\n",
        "treino_x = [porco1, porco2, porco3, cachorro1, cachorro2, cachorro3]  #  (dados x para treinar o algoritmo)\n",
        "treino_y = [1, 1, 1, 0, 0, 0] #labels ou train_y, classes (resultados y para treinar o algoritmo)"
      ]
    },
    {
      "cell_type": "code",
      "source": [
        "from sklearn.svm import LinearSVC\n",
        "\n",
        "#OBS.: Lembrar que o sklearn usa 'por baixo dos panos' o numpy\n",
        "\n",
        "model = LinearSVC()\n",
        "model.fit(treino_x, treino_y)"
      ],
      "metadata": {
        "colab": {
          "base_uri": "https://localhost:8080/"
        },
        "id": "23Qsu0wMWTGz",
        "outputId": "fcbd986a-aaef-41e3-878c-303ea3834b47"
      },
      "execution_count": null,
      "outputs": [
        {
          "output_type": "execute_result",
          "data": {
            "text/plain": [
              "LinearSVC()"
            ]
          },
          "metadata": {},
          "execution_count": 2
        }
      ]
    },
    {
      "cell_type": "code",
      "source": [
        "animal_misterioso = [1, 1, 1]   #tem pelo longo, tem perna curta e late... que animal é esse?\n",
        "model.predict([animal_misterioso])"
      ],
      "metadata": {
        "colab": {
          "base_uri": "https://localhost:8080/"
        },
        "id": "u6C3TL0GWhkP",
        "outputId": "38d74ff7-73b7-4f0c-f9d8-4b24f4aa317a"
      },
      "execution_count": null,
      "outputs": [
        {
          "output_type": "execute_result",
          "data": {
            "text/plain": [
              "array([0])"
            ]
          },
          "metadata": {},
          "execution_count": 3
        }
      ]
    },
    {
      "cell_type": "code",
      "source": [
        "animal_misterioso1 = [1, 1, 1]\n",
        "animal_misterioso2 = [1, 1, 0]\n",
        "animal_misterioso3 = [0, 1, 1]\n",
        "\n",
        "teste_x = [animal_misterioso1, animal_misterioso2, animal_misterioso3]\n",
        "previsoes = model.predict(teste_x)\n",
        "previsoes"
      ],
      "metadata": {
        "colab": {
          "base_uri": "https://localhost:8080/"
        },
        "id": "s3svF5beWer8",
        "outputId": "755d5030-0a15-4247-81e4-28331d49e248"
      },
      "execution_count": null,
      "outputs": [
        {
          "output_type": "execute_result",
          "data": {
            "text/plain": [
              "array([0, 1, 0])"
            ]
          },
          "metadata": {},
          "execution_count": 4
        }
      ]
    },
    {
      "cell_type": "code",
      "source": [
        "#resultados real dos testes\n",
        "teste_y = [0, 1, 1]"
      ],
      "metadata": {
        "id": "xHs78OMVXHCl"
      },
      "execution_count": null,
      "outputs": []
    },
    {
      "cell_type": "code",
      "source": [
        "#comparando os resultados reais com as previsões\n",
        "teste_y == previsoes\n",
        "\n",
        "corretos = (previsoes == teste_y).sum()\n",
        "\n",
        "total = len(teste_x)"
      ],
      "metadata": {
        "id": "_NkIRDxDXgh2"
      },
      "execution_count": null,
      "outputs": []
    },
    {
      "cell_type": "code",
      "source": [
        "taxa_de_acertos = (corretos/total)\n",
        "print(f\"Taxa de acertos: {round(taxa_de_acertos*100, 2)} %\")\n"
      ],
      "metadata": {
        "colab": {
          "base_uri": "https://localhost:8080/"
        },
        "id": "WPObizymXuMZ",
        "outputId": "129910a4-68f7-4d7f-de9c-724483bcf142"
      },
      "execution_count": null,
      "outputs": [
        {
          "output_type": "stream",
          "name": "stdout",
          "text": [
            "Taxa de acertos: 66.67 %\n"
          ]
        }
      ]
    },
    {
      "cell_type": "code",
      "source": [
        "from sklearn.metrics import accuracy_score\n",
        "#sklearn já tem um biblioteca para calculo da taxa de acerto:\n",
        "taxa_de_acertos = accuracy_score(teste_y, previsoes)\n",
        "print(f\"Taxa de acertos: {round(taxa_de_acertos*100, 2)} %\")"
      ],
      "metadata": {
        "colab": {
          "base_uri": "https://localhost:8080/"
        },
        "id": "UQUrWLG5YJ_K",
        "outputId": "d216fbff-f17e-4e3e-aa5b-0eead8f5c444"
      },
      "execution_count": null,
      "outputs": [
        {
          "output_type": "stream",
          "name": "stdout",
          "text": [
            "Taxa de acertos: 66.67 %\n"
          ]
        }
      ]
    }
  ]
}