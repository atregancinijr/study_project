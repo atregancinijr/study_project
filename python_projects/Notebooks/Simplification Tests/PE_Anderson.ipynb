{
 "cells": [
  {
   "cell_type": "code",
   "execution_count": 1,
   "metadata": {},
   "outputs": [],
   "source": [
    "%matplotlib inline"
   ]
  },
  {
   "cell_type": "code",
   "execution_count": 2,
   "metadata": {},
   "outputs": [],
   "source": [
    "import numpy as np\n",
    "\n",
    "from sympy.interactive import printing\n",
    "printing.init_printing(use_latex = 'mathjax')\n",
    "import sympy\n",
    "from __future__ import division\n",
    "#from sympy.functions import meijerg\n",
    "from sympy.abc import x, y, z,u, a, b, c, v\n",
    "from sympy.core.containers import Tuple\n",
    "\n",
    "from sympy import gamma\n",
    "from sympy.matrices import Matrix, eye, zeros, ones, diag, GramSchmidt\n",
    "from sympy import Integral, oo, exp, Sum, binomial, diff, ln\n",
    "from sympy.solvers import solve"
   ]
  },
  {
   "cell_type": "code",
   "execution_count": 3,
   "metadata": {},
   "outputs": [],
   "source": [
    "from sympy import expand, expand_func, hyperexpand, simplify, \\\n",
    "init_printing, symbols, Symbol, Function, N, S, Rational, polar_lift\n",
    "init_printing(use_unicode = False, wrap_line = False, no_global = True)"
   ]
  },
  {
   "cell_type": "code",
   "execution_count": 183,
   "metadata": {},
   "outputs": [
    {
     "data": {
      "image/png": "[encoded data removed]",
      "text/latex": [
       "$$\\frac{a^{2}}{\\alpha^{2}} + \\frac{\\sigma^{2} e^{- \\alpha t}}{2 \\alpha}$$"
      ],
      "text/plain": [
       "   2          2  -alpha*t\n",
       "  a      sigma *e        \n",
       "------ + ----------------\n",
       "     2       2*alpha     \n",
       "alpha                    "
      ]
     },
     "execution_count": 183,
     "metadata": {},
     "output_type": "execute_result"
    }
   ],
   "source": [
    "from sympy import inverse_fourier_transform\n",
    "\n",
    "R_y = inverse_fourier_transform(S_y,f,t).simplify()\n",
    "R_y"
   ]
  },
  {
   "cell_type": "markdown",
   "metadata": {},
   "source": [
    "# Exercicio 6"
   ]
  },
  {
   "cell_type": "code",
   "execution_count": 27,
   "metadata": {},
   "outputs": [],
   "source": [
    "from sympy import Symbol, DiracDelta, Heaviside, pi, exp\n",
    "a = Symbol('a', positive = True, finite = True)\n",
    "aa = Symbol('alpha', real = True, positive = True)\n",
    "sigma = Symbol('sigma')\n",
    "s = Symbol('s')\n",
    "t = Symbol('t')\n",
    "tau = Symbol('tau')\n",
    "f = Symbol('f', real = True)"
   ]
  },
  {
   "cell_type": "code",
   "execution_count": 64,
   "metadata": {},
   "outputs": [
    {
     "data": {
      "image/png": "[encoded data removed]",
      "text/latex": [
       "$$\\left ( e^{- \\alpha t} \\theta\\left(t\\right), \\quad \\frac{1}{\\alpha + 2 i \\pi f}, \\quad \\theta\\left(t\\right)\\right )$$"
      ],
      "text/plain": [
       "  -alpha*t                      1                       \n",
       "(e        *Heaviside(t), ----------------, Heaviside(t))\n",
       "                         alpha + 2*I*pi*f               "
      ]
     },
     "execution_count": 64,
     "metadata": {},
     "output_type": "execute_result"
    }
   ],
   "source": [
    "from sympy import inverse_fourier_transform, fourier_transform, InverseFourierTransform, DiracDelta\n",
    "ht = exp(-aa*t)*Heaviside(t)\n",
    "\n",
    "hf = fourier_transform(ht,t,f)\n",
    "\n",
    "ht, hf,Heaviside(t)"
   ]
  },
  {
   "cell_type": "code",
   "execution_count": 30,
   "metadata": {},
   "outputs": [
    {
     "data": {
      "image/png": "[encoded data removed]",
      "text/latex": [
       "$$\\frac{1}{4} + \\frac{1}{4} e^{- 2 \\lambda \\left|{\\tau}\\right|}$$"
      ],
      "text/plain": [
       "     -2*lambda*|tau|\n",
       "1   e               \n",
       "- + ----------------\n",
       "4          4        "
      ]
     },
     "execution_count": 30,
     "metadata": {},
     "output_type": "execute_result"
    }
   ],
   "source": [
    "from sympy import Rational, Abs\n",
    "lamb = Symbol('lambda', positive = True)\n",
    "R_x = Rational(1, 4)*(1 + exp(-2*lamb*Abs(tau)))\n",
    "R_x"
   ]
  },
  {
   "cell_type": "code",
   "execution_count": 46,
   "metadata": {},
   "outputs": [
    {
     "data": {
      "image/png": "[encoded data removed]",
      "text/latex": [
       "$$\\frac{\\lambda}{4 \\left(\\pi^{2} f^{2} + \\lambda^{2}\\right)} + \\frac{\\mathcal{F}_{\\tau}\\left[1\\right]\\left(f\\right)}{4}$$"
      ],
      "text/plain": [
       "       lambda          FourierTransform(1, tau, f)\n",
       "-------------------- + ---------------------------\n",
       "  /  2  2         2\\                4             \n",
       "4*\\pi *f  + lambda /                              "
      ]
     },
     "execution_count": 46,
     "metadata": {},
     "output_type": "execute_result"
    }
   ],
   "source": [
    "from sympy import fourier_transform,FourierTransform\n",
    "f = Symbol('f', positive = True)\n",
    "S_x = fourier_transform(R_x, tau, f, noconds = True)\n",
    "S_x"
   ]
  },
  {
   "cell_type": "code",
   "execution_count": 87,
   "metadata": {},
   "outputs": [
    {
     "name": "stdout",
     "output_type": "stream",
     "text": [
      "lambda/(4*(pi**2*f**2 + lambda**2)) + FourierTransform(1, tau, f)/4\n"
     ]
    }
   ],
   "source": [
    "print(S_x)"
   ]
  },
  {
   "cell_type": "code",
   "execution_count": 88,
   "metadata": {},
   "outputs": [
    {
     "data": {
      "image/png": "[encoded data removed]",
      "text/latex": [
       "$$\\frac{\\lambda}{4 \\pi^{2} f^{2} + 4 \\lambda^{2}} + \\frac{\\delta\\left(f\\right)}{4}$$"
      ],
      "text/plain": [
       "       lambda          DiracDelta(f)\n",
       "-------------------- + -------------\n",
       "    2  2           2         4      \n",
       "4*pi *f  + 4*lambda                 "
      ]
     },
     "execution_count": 88,
     "metadata": {},
     "output_type": "execute_result"
    }
   ],
   "source": [
    "f = Symbol('f', real = True)\n",
    "S_x = lamb/(4*(pi**2*f**2 + lamb**2)) + DiracDelta(f)/4\n",
    "S_x"
   ]
  },
  {
   "cell_type": "code",
   "execution_count": 89,
   "metadata": {},
   "outputs": [
    {
     "data": {
      "image/png": "[encoded data removed]",
      "text/latex": [
       "$$\\left ( \\frac{1}{2}, \\quad \\frac{1}{2 \\left(\\alpha + 2 i \\pi f\\right)}\\right )$$"
      ],
      "text/plain": [
       "               1           \n",
       "(1/2, --------------------)\n",
       "      2*(alpha + 2*I*pi*f) "
      ]
     },
     "execution_count": 89,
     "metadata": {},
     "output_type": "execute_result"
    }
   ],
   "source": [
    "mu_x = Rational(1,2)\n",
    "mu_y = mu_x*hf.subs(f,0)\n",
    "mu_x,mu_y"
   ]
  },
  {
   "cell_type": "code",
   "execution_count": 94,
   "metadata": {},
   "outputs": [
    {
     "name": "stdout",
     "output_type": "stream",
     "text": [
      "lambda/(4*pi**2*f**2 + 4*lambda**2) + DiracDelta(f)/4\n"
     ]
    }
   ],
   "source": [
    "k = Symbol('k')\n",
    "\n",
    "print(S_x)"
   ]
  },
  {
   "cell_type": "code",
   "execution_count": 104,
   "metadata": {},
   "outputs": [
    {
     "data": {
      "image/png": "[encoded data removed]",
      "text/latex": [
       "$$\\frac{k}{4} + \\frac{\\lambda}{4 f^{2} \\pi^{2} + 4 \\lambda^{2}}$$"
      ],
      "text/plain": [
       "k          lambda       \n",
       "- + --------------------\n",
       "4      2   2           2\n",
       "    4*f *pi  + 4*lambda "
      ]
     },
     "execution_count": 104,
     "metadata": {},
     "output_type": "execute_result"
    }
   ],
   "source": [
    "pi = Symbol('pi')\n",
    "S_x2 = lamb/(4*pi**2*f**2 + 4*lamb**2) + k/4\n",
    "S_x2"
   ]
  },
  {
   "cell_type": "code",
   "execution_count": 105,
   "metadata": {},
   "outputs": [
    {
     "data": {
      "image/png": "[encoded data removed]",
      "text/latex": [
       "$$\\frac{\\frac{k}{4} + \\frac{\\lambda}{4 f^{2} \\pi^{2} + 4 \\lambda^{2}}}{\\alpha^{2} + 4 \\pi^{2} f^{2}}$$"
      ],
      "text/plain": [
       "k          lambda       \n",
       "- + --------------------\n",
       "4      2   2           2\n",
       "    4*f *pi  + 4*lambda \n",
       "------------------------\n",
       "        2       2  2    \n",
       "   alpha  + 4*pi *f     "
      ]
     },
     "execution_count": 105,
     "metadata": {},
     "output_type": "execute_result"
    }
   ],
   "source": [
    "from sympy import Abs, factor, simplify, apart, collect, cancel, \\\n",
    "powsimp, ratsimp, Wild, expand_power_base, together, expand, refine, Q, cse, var\n",
    "S_y = S_x2*(Abs(hf)**2)\n",
    "S_y"
   ]
  },
  {
   "cell_type": "code",
   "execution_count": 121,
   "metadata": {},
   "outputs": [
    {
     "data": {
      "image/png": "[encoded data removed]",
      "text/latex": [
       "$$\\left ( \\left ( \\frac{\\alpha^{2} \\pi^{2} - 4 \\pi^{2} \\lambda^{2}}{\\left(4 \\alpha^{2} + 16 \\pi^{2} f^{2}\\right) \\left(\\alpha \\pi - 2 \\pi \\lambda\\right) \\left(\\alpha \\pi + 2 \\pi \\lambda\\right) \\left(f^{2} \\pi^{2} + \\lambda^{2}\\right)}, \\quad \\left [ \\left ( k \\left(f^{2} \\pi^{2} + \\lambda^{2}\\right) + \\lambda, \\quad 1\\right )\\right ]\\right ), \\quad \\left ( 1, \\quad \\left [ \\right ]\\right )\\right )$$"
      ],
      "text/plain": [
       "                                        2   2       2       2                                                                                 \n",
       "                                   alpha *pi  - 4*pi *lambda                                       / 2   2         2\\                         \n",
       "((-------------------------------------------------------------------------------------------, [(k*\\f *pi  + lambda / + lambda, 1)]), (1, []))\n",
       "  /       2        2  2\\                                                   / 2   2         2\\                                                 \n",
       "  \\4*alpha  + 16*pi *f /*(alpha*pi - 2*pi*lambda)*(alpha*pi + 2*pi*lambda)*\\f *pi  + lambda /                                                 "
      ]
     },
     "execution_count": 121,
     "metadata": {},
     "output_type": "execute_result"
    }
   ],
   "source": [
    "from sympy import fraction, factor_list\n",
    "f=Symbol('f', real = True, positive = True)\n",
    "n, d = fraction(apart(S_y, f))\n",
    "factor_list(n, k), factor_list(d)"
   ]
  },
  {
   "cell_type": "code",
   "execution_count": 107,
   "metadata": {},
   "outputs": [
    {
     "data": {
      "image/png": "[encoded data removed]",
      "text/latex": [
       "$$\\left ( \\frac{f^{2} k \\pi^{2} + k \\lambda^{2} + \\lambda}{4 \\alpha^{2} f^{2} \\pi^{2} + 4 \\alpha^{2} \\lambda^{2} + 16 \\pi^{2} f^{4} \\pi^{2} + 16 \\pi^{2} f^{2} \\lambda^{2}}, \\quad \\left ( f^{2} k \\pi^{2} + k \\lambda^{2} + \\lambda, \\quad 4 \\alpha^{2} f^{2} \\pi^{2} + 4 \\alpha^{2} \\lambda^{2} + 16 \\pi^{2} f^{4} \\pi^{2} + 16 \\pi^{2} f^{2} \\lambda^{2}\\right )\\right )$$"
      ],
      "text/plain": [
       "                      2     2           2                                                                                                                                        \n",
       "                     f *k*pi  + k*lambda  + lambda                         2     2           2                  2  2   2          2       2        2  4   2        2  2       2  \n",
       "(----------------------------------------------------------------------, (f *k*pi  + k*lambda  + lambda, 4*alpha *f *pi  + 4*alpha *lambda  + 16*pi *f *pi  + 16*pi *f *lambda ))\n",
       "        2  2   2          2       2        2  4   2        2  2       2                                                                                                          \n",
       " 4*alpha *f *pi  + 4*alpha *lambda  + 16*pi *f *pi  + 16*pi *f *lambda                                                                                                           "
      ]
     },
     "execution_count": 107,
     "metadata": {},
     "output_type": "execute_result"
    }
   ],
   "source": [
    "cancel(S_y), fraction(cancel(S_y))"
   ]
  },
  {
   "cell_type": "code",
   "execution_count": 122,
   "metadata": {},
   "outputs": [
    {
     "data": {
      "image/png": "[encoded data removed]",
      "text/latex": [
       "$$\\left ( \\left ( \\left [ \\left ( x_{0}, \\quad 4 f^{2}\\right )\\right ], \\quad \\left [ \\frac{\\frac{k}{4} + \\frac{\\lambda}{4 \\lambda^{2} + \\pi^{2} x_{0}}}{\\alpha^{2} + \\pi^{2} x_{0}}\\right ]\\right ), \\quad \\frac{\\frac{\\lambda}{4 f^{2} \\pi^{2} + 4 \\lambda^{2}} + \\frac{\\delta\\left(f\\right)}{4}}{\\alpha^{2} + 4 \\pi^{2} f^{2}}, \\quad \\frac{1}{4 \\alpha^{2} + 16 \\pi^{2} f^{2}}\\right )$$"
      ],
      "text/plain": [
       "                 k         lambda                 lambda          DiracDelta(f)                       \n",
       "                 - + ------------------    -------------------- + -------------                       \n",
       "                 4           2     2          2   2           2         4                             \n",
       "           2         4*lambda  + pi *x0    4*f *pi  + 4*lambda                            1           \n",
       "(([(x0, 4*f )], [----------------------]), ------------------------------------, --------------------)\n",
       "                         2     2                         2       2  2                   2        2  2 \n",
       "                    alpha  + pi *x0                 alpha  + 4*pi *f             4*alpha  + 16*pi *f  "
      ]
     },
     "execution_count": 122,
     "metadata": {},
     "output_type": "execute_result"
    }
   ],
   "source": [
    "cse(S_y), S_y.subs([(k, DiracDelta(f))]), \\\n",
    "S_y.apart(k).subs([(k, DiracDelta(f))]).expand(DiracDelta=True, wrt = f).coeff(DiracDelta(f))"
   ]
  },
  {
   "cell_type": "code",
   "execution_count": 149,
   "metadata": {
    "scrolled": true
   },
   "outputs": [
    {
     "data": {
      "image/png": "[encoded data removed]",
      "text/latex": [
       "$$\\left ( \\frac{k}{4 \\alpha^{2} + 16 \\pi^{2} f^{2}} + \\frac{\\lambda}{4 \\alpha^{2} f^{2} \\pi^{2} + 4 \\alpha^{2} \\lambda^{2} + 16 \\pi^{2} f^{4} \\pi^{2} + 16 \\pi^{2} f^{2} \\lambda^{2}}, \\quad \\frac{k}{4 \\alpha^{2}}, \\quad \\frac{\\lambda \\pi^{2}}{4 \\left(\\alpha \\pi - 2 \\pi \\lambda\\right) \\left(\\alpha \\pi + 2 \\pi \\lambda\\right) \\left(f^{2} \\pi^{2} + \\lambda^{2}\\right)} - \\frac{\\pi^{2} \\lambda}{\\left(\\alpha^{2} + 4 \\pi^{2} f^{2}\\right) \\left(\\alpha \\pi - 2 \\pi \\lambda\\right) \\left(\\alpha \\pi + 2 \\pi \\lambda\\right)}\\right )$$"
      ],
      "text/plain": [
       "                                                                                                                                                 2                                                                 2                                     \n",
       "          k                                             lambda                                     k                                    lambda*pi                                                                pi *lambda                              \n",
       "(-------------------- + ----------------------------------------------------------------------, --------, ---------------------------------------------------------------------- - ---------------------------------------------------------------------)\n",
       "        2        2  2          2  2   2          2       2        2  4   2        2  2       2         2                                                      / 2   2         2\\   /     2       2  2\\                                                   \n",
       " 4*alpha  + 16*pi *f    4*alpha *f *pi  + 4*alpha *lambda  + 16*pi *f *pi  + 16*pi *f *lambda   4*alpha   4*(alpha*pi - 2*pi*lambda)*(alpha*pi + 2*pi*lambda)*\\f *pi  + lambda /   \\alpha  + 4*pi *f /*(alpha*pi - 2*pi*lambda)*(alpha*pi + 2*pi*lambda) "
      ]
     },
     "execution_count": 149,
     "metadata": {},
     "output_type": "execute_result"
    }
   ],
   "source": [
    "f=Symbol('f', positive = True, real = True)\n",
    "S_y.apart(k), S_y.apart(k).args[0].subs({f:0}), S_y.apart(k).args[1].apart(f)"
   ]
  },
  {
   "cell_type": "code",
   "execution_count": 151,
   "metadata": {},
   "outputs": [
    {
     "data": {
      "image/png": "[encoded data removed]",
      "text/latex": [
       "$$\\frac{\\lambda}{4 \\left(\\alpha^{2} f^{2} \\pi^{2} + \\alpha^{2} \\lambda^{2} + 4 \\pi^{2} f^{4} \\pi^{2} + 4 \\pi^{2} f^{2} \\lambda^{2}\\right)} + \\frac{k}{4 \\alpha^{2}}$$"
      ],
      "text/plain": [
       "                               lambda                                     k    \n",
       "-------------------------------------------------------------------- + --------\n",
       "  /     2  2   2        2       2       2  4   2       2  2       2\\          2\n",
       "4*\\alpha *f *pi  + alpha *lambda  + 4*pi *f *pi  + 4*pi *f *lambda /   4*alpha "
      ]
     },
     "execution_count": 151,
     "metadata": {},
     "output_type": "execute_result"
    }
   ],
   "source": [
    "S_y.apart(k).args[0].subs(f,0) + S_y.apart(k).args[1].apart(f).simplify()"
   ]
  },
  {
   "cell_type": "code",
   "execution_count": 156,
   "metadata": {
    "scrolled": true
   },
   "outputs": [
    {
     "data": {
      "image/png": "[encoded data removed]",
      "text/latex": [
       "$$\\frac{\\lambda \\pi^{2}}{4 \\left(\\alpha \\pi - 2 \\pi \\lambda\\right) \\left(\\alpha \\pi + 2 \\pi \\lambda\\right) \\left(f^{2} \\pi^{2} + \\lambda^{2}\\right)} - \\frac{\\pi^{2} \\lambda}{\\left(\\alpha^{2} + 4 \\pi^{2} f^{2}\\right) \\left(\\alpha \\pi - 2 \\pi \\lambda\\right) \\left(\\alpha \\pi + 2 \\pi \\lambda\\right)} + \\frac{k}{4 \\alpha^{2}}$$"
      ],
      "text/plain": [
       "                                       2                                                                 2                                               \n",
       "                              lambda*pi                                                                pi *lambda                                   k    \n",
       "---------------------------------------------------------------------- - --------------------------------------------------------------------- + --------\n",
       "                                                    / 2   2         2\\   /     2       2  2\\                                                            2\n",
       "4*(alpha*pi - 2*pi*lambda)*(alpha*pi + 2*pi*lambda)*\\f *pi  + lambda /   \\alpha  + 4*pi *f /*(alpha*pi - 2*pi*lambda)*(alpha*pi + 2*pi*lambda)   4*alpha "
      ]
     },
     "execution_count": 156,
     "metadata": {},
     "output_type": "execute_result"
    }
   ],
   "source": [
    "S_y2 = S_y.apart(k).args[0].subs(f,0)+ S_y.apart(k).args[1].apart(f)\n",
    "S_y2"
   ]
  },
  {
   "cell_type": "code",
   "execution_count": 160,
   "metadata": {
    "scrolled": true
   },
   "outputs": [
    {
     "name": "stdout",
     "output_type": "stream",
     "text": [
      "pi**2*lambda/(4*(pi*alpha - 2*pi*lambda)*(pi*alpha + 2*pi*lambda)*(pi**2*f**2 + lambda**2)) - pi**2*lambda/((alpha**2 + 4*pi**2*f**2)*(pi*alpha - 2*pi*lambda)*(pi*alpha + 2*pi*lambda)) + k/(4*alpha**2)\n"
     ]
    }
   ],
   "source": [
    "print(S_y2)"
   ]
  },
  {
   "cell_type": "code",
   "execution_count": 166,
   "metadata": {},
   "outputs": [
    {
     "data": {
      "image/png": "[encoded data removed]",
      "text/latex": [
       "$$\\frac{\\lambda}{\\left(\\alpha + 2 \\lambda\\right) \\left(4 \\alpha - 8 \\lambda\\right) \\left(\\pi^{2} f^{2} + \\lambda^{2}\\right)} - \\frac{\\lambda}{\\left(\\alpha - 2 \\lambda\\right) \\left(\\alpha + 2 \\lambda\\right) \\left(\\alpha^{2} + 4 \\pi^{2} f^{2}\\right)} + \\frac{\\delta\\left(f\\right)}{4 \\alpha^{2}}$$"
      ],
      "text/plain": [
       "                          lambda                                                       lambda                            DiracDelta(f)\n",
       "---------------------------------------------------------- - --------------------------------------------------------- + -------------\n",
       "                                        /  2  2         2\\                                         /     2       2  2\\             2  \n",
       "(alpha + 2*lambda)*(4*alpha - 8*lambda)*\\pi *f  + lambda /   (alpha - 2*lambda)*(alpha + 2*lambda)*\\alpha  + 4*pi *f /      4*alpha   "
      ]
     },
     "execution_count": 166,
     "metadata": {},
     "output_type": "execute_result"
    }
   ],
   "source": [
    "from sympy import pi\n",
    "f=Symbol('f')\n",
    "S_y2 = lamb/(4*(aa - 2*lamb)*(aa + 2*lamb)*(f**2*pi**2 + lamb**2)) - lamb/((aa**2 + 4*pi**2*f**2)*(aa - 2*lamb)*(aa + 2*lamb)) + DiracDelta(f)/(4*aa**2)\n",
    "S_y2"
   ]
  },
  {
   "cell_type": "code",
   "execution_count": 167,
   "metadata": {},
   "outputs": [
    {
     "data": {
      "image/png": "[encoded data removed]",
      "text/latex": [
       "$$\\frac{e^{- 2 \\lambda t}}{4 \\left(\\alpha^{2} - 4 \\lambda^{2}\\right)} - \\frac{\\lambda e^{- \\alpha t}}{2 \\alpha \\left(\\alpha^{2} - 4 \\lambda^{2}\\right)} + \\frac{1}{4 \\alpha^{2}}$$"
      ],
      "text/plain": [
       "      -2*lambda*t                      -alpha*t                 \n",
       "     e                         lambda*e                    1    \n",
       "---------------------- - ---------------------------- + --------\n",
       "  /     2           2\\           /     2           2\\          2\n",
       "4*\\alpha  - 4*lambda /   2*alpha*\\alpha  - 4*lambda /   4*alpha "
      ]
     },
     "execution_count": 167,
     "metadata": {},
     "output_type": "execute_result"
    }
   ],
   "source": [
    "Ry = inverse_fourier_transform(S_y2.subs([(k, DiracDelta(f))]), f, t)\n",
    "Ry"
   ]
  },
  {
   "cell_type": "markdown",
   "metadata": {},
   "source": [
    "# Exercicio 7)"
   ]
  },
  {
   "cell_type": "code",
   "execution_count": null,
   "metadata": {},
   "outputs": [],
   "source": [
    "from sympy import Symbol, DiracDelta, Heaviside, exp, apart\n",
    "a = Symbol('a', positive = True, finite = True)\n",
    "aa = Symbol('alpha', real = True, positive = True)\n",
    "ss = Symbol('sigma')\n",
    "s = Symbol('s')\n",
    "t = Symbol('t', positive = True)\n",
    "tt = Symbol('tau')\n",
    "f = Symbol('f', real = True)\n",
    "pi = Symbol('pi')"
   ]
  },
  {
   "cell_type": "code",
   "execution_count": 267,
   "metadata": {},
   "outputs": [
    {
     "data": {
      "image/png": "[encoded data removed]",
      "text/latex": [
       "$$\\left ( \\frac{1}{4 f^{2} \\pi^{2} + 4}, \\quad \\frac{4}{\\left(4 f^{2} \\pi^{2} + 4\\right) \\left(4 f^{2} \\pi^{2} + 64\\right)}\\right )$$"
      ],
      "text/plain": [
       "      1                      4                \n",
       "(------------, ------------------------------)\n",
       "    2   2      /   2   2    \\ /   2   2     \\ \n",
       " 4*f *pi  + 4  \\4*f *pi  + 4/*\\4*f *pi  + 64/ "
      ]
     },
     "execution_count": 267,
     "metadata": {},
     "output_type": "execute_result"
    }
   ],
   "source": [
    "SX = 1/(4 + (2*pi*f)**2)\n",
    "SY = 4/((4 + (2*pi*f)**2)*(64 + (2*pi*f)**2))\n",
    "SX, SY"
   ]
  },
  {
   "cell_type": "code",
   "execution_count": 268,
   "metadata": {},
   "outputs": [
    {
     "data": {
      "text/plain": [
       "('\\\\frac{1}{4 f^{2} \\\\pi^{2} + 4}',\n",
       " '\\\\frac{4}{\\\\left(4 f^{2} \\\\pi^{2} + 4\\\\right) \\\\left(4 f^{2} \\\\pi^{2} + 64\\\\right)}')"
      ]
     },
     "execution_count": 268,
     "metadata": {},
     "output_type": "execute_result"
    }
   ],
   "source": [
    "from sympy import latex\n",
    "latex(SX), latex(SY)"
   ]
  },
  {
   "cell_type": "code",
   "execution_count": 269,
   "metadata": {},
   "outputs": [
    {
     "data": {
      "image/png": "[encoded data removed]",
      "text/latex": [
       "$$\\frac{\\pi}{4 \\pi} e^{- \\frac{2 \\pi}{\\pi} \\tau}$$"
      ],
      "text/plain": [
       "    -2*pi*tau \n",
       "    ----------\n",
       "        pi    \n",
       "pi*e          \n",
       "--------------\n",
       "     4*pi     "
      ]
     },
     "execution_count": 269,
     "metadata": {},
     "output_type": "execute_result"
    }
   ],
   "source": [
    "from sympy import inverse_fourier_transform\n",
    "inverse_fourier_transform(SX, f, tt)"
   ]
  },
  {
   "cell_type": "code",
   "execution_count": 280,
   "metadata": {},
   "outputs": [
    {
     "data": {
      "image/png": "[encoded data removed]",
      "text/latex": [
       "$$\\left ( - \\frac{1}{60 \\left(f^{2} \\pi^{2} + 16\\right)} + \\frac{1}{60 \\left(f^{2} \\pi^{2} + 1\\right)}, \\quad \\frac{\\pi}{240 \\pi} \\left(4 e^{\\frac{6 \\pi}{\\pi} \\tau} - 1\\right) e^{- \\frac{8 \\pi}{\\pi} \\tau}\\right )$$"
      ],
      "text/plain": [
       "                                          /   6*pi*tau    \\  -8*pi*tau  \n",
       "                                          |   --------    |  ---------- \n",
       "                                          |      pi       |      pi     \n",
       "          1                  1         pi*\\4*e         - 1/*e           \n",
       "(- ---------------- + ---------------, --------------------------------)\n",
       "      / 2   2     \\      / 2   2    \\               240*pi              \n",
       "   60*\\f *pi  + 16/   60*\\f *pi  + 1/                                   "
      ]
     },
     "execution_count": 280,
     "metadata": {},
     "output_type": "execute_result"
    }
   ],
   "source": [
    "apart(SY, f), inverse_fourier_transform(apart(SY, f), f, tt).simplify()"
   ]
  },
  {
   "cell_type": "code",
   "execution_count": 283,
   "metadata": {},
   "outputs": [
    {
     "name": "stdout",
     "output_type": "stream",
     "text": [
      "pi*(4*exp(6*pi*tau/pi) - 1)*exp(-8*pi*tau/pi)/(240*pi)\n"
     ]
    }
   ],
   "source": [
    "print(inverse_fourier_transform(apart(SY, f), f, tt).simplify())"
   ]
  },
  {
   "cell_type": "code",
   "execution_count": 284,
   "metadata": {},
   "outputs": [
    {
     "data": {
      "image/png": "[encoded data removed]",
      "text/latex": [
       "$$\\frac{1}{240} \\left(4 e^{6 \\tau} - 1\\right) e^{- 8 \\tau}$$"
      ],
      "text/plain": [
       "/   6*tau    \\  -8*tau\n",
       "\\4*e      - 1/*e      \n",
       "----------------------\n",
       "         240          "
      ]
     },
     "execution_count": 284,
     "metadata": {},
     "output_type": "execute_result"
    }
   ],
   "source": [
    "(4*exp(6*tau) - 1)*exp(-8*tau)/(240)"
   ]
  },
  {
   "cell_type": "code",
   "execution_count": 282,
   "metadata": {},
   "outputs": [
    {
     "data": {
      "image/png": "[encoded data removed]",
      "text/latex": [
       "$$\\frac{4}{4 f^{2} \\pi^{2} + 64}$$"
      ],
      "text/plain": [
       "      4      \n",
       "-------------\n",
       "   2   2     \n",
       "4*f *pi  + 64"
      ]
     },
     "execution_count": 282,
     "metadata": {},
     "output_type": "execute_result"
    }
   ],
   "source": [
    "hf_sq = SY/SX\n",
    "hf_sq"
   ]
  },
  {
   "cell_type": "code",
   "execution_count": 307,
   "metadata": {},
   "outputs": [
    {
     "name": "stdout",
     "output_type": "stream",
     "text": [
      "1/(f**2*pi**2 + 16)\n"
     ]
    }
   ],
   "source": [
    "from sympy import pi\n",
    "hf_sq.apart(f, full = True).doit()\n",
    "print(hf_sq.apart(f, full = True).doit())"
   ]
  },
  {
   "cell_type": "code",
   "execution_count": 306,
   "metadata": {},
   "outputs": [
    {
     "data": {
      "image/png": "[encoded data removed]",
      "text/latex": [
       "$$2 e^{- 8 t}$$"
      ],
      "text/plain": [
       "   -8*t\n",
       "2*e    "
      ]
     },
     "execution_count": 306,
     "metadata": {},
     "output_type": "execute_result"
    }
   ],
   "source": [
    "from sympy import I, pi\n",
    "\n",
    "inverse_fourier_transform(2/(I*2*pi*f + 8), f, t, noconds = False)[0]"
   ]
  },
  {
   "cell_type": "markdown",
   "metadata": {},
   "source": [
    "# Exercise 8"
   ]
  },
  {
   "cell_type": "code",
   "execution_count": 296,
   "metadata": {},
   "outputs": [],
   "source": [
    "from sympy import Symbol, DiracDelta, pi, Heaviside, exp, apart, Abs\n",
    "\n",
    "sigma = Symbol('sigma')\n",
    "s = Symbol('s')\n",
    "t = Symbol('t')\n",
    "tau = Symbol('tau')\n",
    "f = Symbol('f', real = True)\n"
   ]
  },
  {
   "cell_type": "code",
   "execution_count": 297,
   "metadata": {},
   "outputs": [
    {
     "data": {
      "image/png": "[encoded data removed]",
      "text/latex": [
       "$$\\left ( 1 + 4 e^{- 2 \\left|{\\tau}\\right|}, \\quad 1 + \\frac{8}{3} e^{- \\left|{\\tau}\\right|} - \\frac{4}{3} e^{- 2 \\left|{\\tau}\\right|}\\right )$$"
      ],
      "text/plain": [
       "                         -|tau|      -2*|tau| \n",
       "        -2*|tau|      8*e         4*e         \n",
       "(1 + 4*e        , 1 + --------- - -----------)\n",
       "                          3            3      "
      ]
     },
     "execution_count": 297,
     "metadata": {},
     "output_type": "execute_result"
    }
   ],
   "source": [
    "Rx = 1 + 4*exp(-2*Abs(tau))\n",
    "Ry = 1 + Rational(8,3)*exp(-Abs(tau))-Rational(4,3)*exp(-2*Abs(tau))\n",
    "\n",
    "Rx, Ry"
   ]
  },
  {
   "cell_type": "code",
   "execution_count": 299,
   "metadata": {},
   "outputs": [
    {
     "data": {
      "image/png": "[encoded data removed]",
      "text/latex": [
       "$$\\left ( 1, \\quad 4, \\quad 2\\right )$$"
      ],
      "text/plain": [
       "(1, 4, 2)"
      ]
     },
     "execution_count": 299,
     "metadata": {},
     "output_type": "execute_result"
    }
   ],
   "source": [
    "mu_x = 1\n",
    "var_x = 4\n",
    "sigma = sympy.sqrt(var_x)\n",
    "\n",
    "mu_x, var_x, sigma"
   ]
  },
  {
   "cell_type": "code",
   "execution_count": 300,
   "metadata": {},
   "outputs": [
    {
     "data": {
      "image/png": "[encoded data removed]",
      "text/latex": [
       "$$\\mathcal{F}_{\\tau}\\left[1\\right]\\left(f\\right) + \\frac{4}{\\pi^{2} f^{2} + 1}$$"
      ],
      "text/plain": [
       "                                  4     \n",
       "FourierTransform(1, tau, f) + ----------\n",
       "                                2  2    \n",
       "                              pi *f  + 1"
      ]
     },
     "execution_count": 300,
     "metadata": {},
     "output_type": "execute_result"
    }
   ],
   "source": [
    "from sympy import fourier_transform, inverse_fourier_transform\n",
    "f = Symbol('f', positive = True)\n",
    "Sx = fourier_transform(Rx, tau, f)\n",
    "Sx"
   ]
  },
  {
   "cell_type": "code",
   "execution_count": 301,
   "metadata": {},
   "outputs": [
    {
     "data": {
      "image/png": "[encoded data removed]",
      "text/latex": [
       "$$\\mathcal{F}_{\\tau}\\left[1\\right]\\left(f\\right) + \\frac{16}{3 \\left(4 \\pi^{2} f^{2} + 1\\right)} - \\frac{4}{3 \\left(\\pi^{2} f^{2} + 1\\right)}$$"
      ],
      "text/plain": [
       "                                     16                4       \n",
       "FourierTransform(1, tau, f) + ---------------- - --------------\n",
       "                                /    2  2    \\     /  2  2    \\\n",
       "                              3*\\4*pi *f  + 1/   3*\\pi *f  + 1/"
      ]
     },
     "execution_count": 301,
     "metadata": {},
     "output_type": "execute_result"
    }
   ],
   "source": [
    "Sy = fourier_transform(1, tau, f) + Rational(8,3)*fourier_transform(exp(-Abs(tau)), tau, f) - Rational(4,3)*fourier_transform(exp(-2*Abs(tau)), tau, f)\n",
    "Sy"
   ]
  },
  {
   "cell_type": "code",
   "execution_count": 302,
   "metadata": {},
   "outputs": [
    {
     "name": "stdout",
     "output_type": "stream",
     "text": [
      "FourierTransform(1, tau, f) + 4/(pi**2*f**2 + 1)\n",
      "FourierTransform(1, tau, f) + 16/(3*(4*pi**2*f**2 + 1)) - 4/(3*(pi**2*f**2 + 1))\n"
     ]
    }
   ],
   "source": [
    "print(Sx)\n",
    "print(Sy)"
   ]
  },
  {
   "cell_type": "code",
   "execution_count": 341,
   "metadata": {},
   "outputs": [
    {
     "data": {
      "image/png": "[encoded data removed]",
      "text/latex": [
       "$$\\left ( \\delta\\left(f\\right) + \\frac{4}{\\pi^{2} f^{2} + 1}, \\quad \\delta\\left(f\\right) + \\frac{16}{12 \\pi^{2} f^{2} + 3} - \\frac{4}{3 \\pi^{2} f^{2} + 3}\\right )$$"
      ],
      "text/plain": [
       "                     4                             16             4       \n",
       "(DiracDelta(f) + ----------, DiracDelta(f) + ------------- - ------------)\n",
       "                   2  2                           2  2           2  2     \n",
       "                 pi *f  + 1                  12*pi *f  + 3   3*pi *f  + 3 "
      ]
     },
     "execution_count": 341,
     "metadata": {},
     "output_type": "execute_result"
    }
   ],
   "source": [
    "from sympy import FourierTransform\n",
    "f = Symbol('f', real = True)\n",
    "Sx = DiracDelta(f) + 4/(pi**2*f**2 + 1)\n",
    "Sy = DiracDelta(f) + 16/(3*(4*pi**2*f**2 + 1)) - 4/(3*(pi**2*f**2 + 1))\n",
    "\n",
    "Sx, Sy"
   ]
  },
  {
   "cell_type": "code",
   "execution_count": 342,
   "metadata": {},
   "outputs": [
    {
     "data": {
      "image/png": "[encoded data removed]",
      "text/latex": [
       "$$e^{- t} \\theta\\left(t\\right)$$"
      ],
      "text/plain": [
       " -t             \n",
       "e  *Heaviside(t)"
      ]
     },
     "execution_count": 342,
     "metadata": {},
     "output_type": "execute_result"
    }
   ],
   "source": [
    "ht = exp(-t)*Heaviside(t)\n",
    "ht"
   ]
  },
  {
   "cell_type": "code",
   "execution_count": 343,
   "metadata": {},
   "outputs": [
    {
     "data": {
      "image/png": "[encoded data removed]",
      "text/latex": [
       "$$\\frac{1}{2 i \\pi f + 1}$$"
      ],
      "text/plain": [
       "     1      \n",
       "------------\n",
       "2*I*pi*f + 1"
      ]
     },
     "execution_count": 343,
     "metadata": {},
     "output_type": "execute_result"
    }
   ],
   "source": [
    "hf = fourier_transform(ht, t, f)\n",
    "hf"
   ]
  },
  {
   "cell_type": "code",
   "execution_count": 344,
   "metadata": {},
   "outputs": [
    {
     "data": {
      "image/png": "[encoded data removed]",
      "text/latex": [
       "$$\\frac{\\delta\\left(f\\right) + \\frac{4}{\\pi^{2} f^{2} + 1}}{4 \\pi^{2} f^{2} + 1}$$"
      ],
      "text/plain": [
       "                    4     \n",
       "DiracDelta(f) + ----------\n",
       "                  2  2    \n",
       "                pi *f  + 1\n",
       "--------------------------\n",
       "           2  2           \n",
       "       4*pi *f  + 1       "
      ]
     },
     "execution_count": 344,
     "metadata": {},
     "output_type": "execute_result"
    }
   ],
   "source": [
    "Sy_t = Sx*Abs(hf)**2\n",
    "Sy_t"
   ]
  },
  {
   "cell_type": "code",
   "execution_count": 345,
   "metadata": {},
   "outputs": [
    {
     "name": "stdout",
     "output_type": "stream",
     "text": [
      "(DiracDelta(f) + 4/(pi**2*f**2 + 1))/(4*pi**2*f**2 + 1)\n"
     ]
    }
   ],
   "source": [
    "print(Sy_t)"
   ]
  },
  {
   "cell_type": "code",
   "execution_count": 346,
   "metadata": {},
   "outputs": [
    {
     "data": {
      "image/png": "[encoded data removed]",
      "text/latex": [
       "$$\\frac{\\delta\\left(f\\right)}{4 \\pi^{2} f^{2} + 1} + \\frac{4}{\\left(\\pi^{2} f^{2} + 1\\right) \\left(4 \\pi^{2} f^{2} + 1\\right)}$$"
      ],
      "text/plain": [
       "DiracDelta(f)                4             \n",
       "------------- + ---------------------------\n",
       "     2  2       /  2  2    \\ /    2  2    \\\n",
       " 4*pi *f  + 1   \\pi *f  + 1/*\\4*pi *f  + 1/"
      ]
     },
     "execution_count": 346,
     "metadata": {},
     "output_type": "execute_result"
    }
   ],
   "source": [
    "Sy_t = DiracDelta(f)/(4*pi**2*f**2 + 1) + 4/(4*pi**2*f**2 + 1)/(pi**2*f**2 + 1)\n",
    "Sy_t\n"
   ]
  },
  {
   "cell_type": "code",
   "execution_count": 347,
   "metadata": {},
   "outputs": [
    {
     "name": "stdout",
     "output_type": "stream",
     "text": [
      "16/(3*(4*f**2*pi**2 + 1)) - 4/(3*(f**2*pi**2 + 1))\n"
     ]
    }
   ],
   "source": [
    "print((4/(4*pii**2*f**2 + 1)/(pii**2*f**2 + 1)).apart(f))"
   ]
  },
  {
   "cell_type": "code",
   "execution_count": 348,
   "metadata": {},
   "outputs": [
    {
     "data": {
      "image/png": "[encoded data removed]",
      "text/latex": [
       "$$\\frac{16}{12 \\pi^{2} f^{2} + 3} + \\frac{\\delta\\left(f\\right)}{4 \\pi^{2} f^{2} + 1} - \\frac{4}{3 \\pi^{2} f^{2} + 3}$$"
      ],
      "text/plain": [
       "      16        DiracDelta(f)        4      \n",
       "------------- + ------------- - ------------\n",
       "     2  2            2  2           2  2    \n",
       "12*pi *f  + 3    4*pi *f  + 1   3*pi *f  + 3"
      ]
     },
     "execution_count": 348,
     "metadata": {},
     "output_type": "execute_result"
    }
   ],
   "source": [
    "Sy_t = DiracDelta(f)/(4*pi**2*f**2 + 1) + 16/(3*(4*f**2*pi**2 + 1)) - 4/(3*(f**2*pi**2 + 1))\n",
    "Sy_t"
   ]
  },
  {
   "cell_type": "markdown",
   "metadata": {},
   "source": [
    "Como $\\sigma(f)$ só existe para $f = 0$ :\n",
    "\n",
    "p/ f = 0 $\\rightarrow$ $\\frac{\\sigma(f = 0)}{4\\pi^2 0^2 + 1} = \\sigma(f=0)$\n",
    "\n",
    "Logo, confirmando que $h(t) = e^{-t}\\theta(t)$"
   ]
  },
  {
   "cell_type": "code",
   "execution_count": 349,
   "metadata": {},
   "outputs": [
    {
     "data": {
      "image/png": "[encoded data removed]",
      "text/latex": [
       "$$1$$"
      ],
      "text/plain": [
       "1"
      ]
     },
     "execution_count": 349,
     "metadata": {},
     "output_type": "execute_result"
    }
   ],
   "source": [
    "mu_y = mu_x*hf.subs(f, 0)\n",
    "mu_y"
   ]
  },
  {
   "cell_type": "code",
   "execution_count": 350,
   "metadata": {},
   "outputs": [
    {
     "data": {
      "image/png": "[encoded data removed]",
      "text/latex": [
       "$$\\frac{4}{3}$$"
      ],
      "text/plain": [
       "4/3"
      ]
     },
     "execution_count": 350,
     "metadata": {},
     "output_type": "execute_result"
    }
   ],
   "source": [
    "var_y = Ry.subs(tau,0) - mu_y**2\n",
    "var_y"
   ]
  },
  {
   "cell_type": "markdown",
   "metadata": {},
   "source": [
    "# EXercise 9)"
   ]
  },
  {
   "cell_type": "code",
   "execution_count": 125,
   "metadata": {},
   "outputs": [],
   "source": [
    "from sympy import Symbol, DiracDelta, pi, Heaviside, exp, apart, Abs, I\n",
    "\n",
    "sigma = Symbol('sigma')\n",
    "s = Symbol('s')\n",
    "t = Symbol('t')\n",
    "tau = Symbol('tau')\n",
    "f = Symbol('f', real = True)\n",
    "t0 = Symbol('t_0', real = True)"
   ]
  },
  {
   "cell_type": "code",
   "execution_count": 126,
   "metadata": {},
   "outputs": [
    {
     "data": {
      "image/png": "[encoded data removed]",
      "text/latex": [
       "$$100 e^{- 100 \\left|{\\tau}\\right|}$$"
      ],
      "text/plain": [
       "     -100*|tau|\n",
       "100*e          "
      ]
     },
     "execution_count": 126,
     "metadata": {},
     "output_type": "execute_result"
    }
   ],
   "source": [
    "Rx = 100*exp(-100*Abs(tau))\n",
    "Rx"
   ]
  },
  {
   "cell_type": "code",
   "execution_count": 152,
   "metadata": {},
   "outputs": [
    {
     "data": {
      "image/png": "[encoded data removed]",
      "text/latex": [
       "$$\\lambda e^{- \\lambda \\left|{\\tau}\\right|}$$"
      ],
      "text/plain": [
       "        -lambda*|tau|\n",
       "lambda*e             "
      ]
     },
     "execution_count": 152,
     "metadata": {},
     "output_type": "execute_result"
    }
   ],
   "source": [
    "from sympy import fourier_transform, inverse_fourier_transform\n",
    "f = Symbol('f', positive = True)\n",
    "X = Symbol('X')\n",
    "lamb = Symbol('lambda')\n",
    "Rx = lamb*exp(-lamb*Abs(tau))\n",
    "Rx"
   ]
  },
  {
   "cell_type": "code",
   "execution_count": 153,
   "metadata": {},
   "outputs": [
    {
     "data": {
      "image/png": "[encoded data removed]",
      "text/latex": [
       "$$- X e^{2 \\pi f t_{0}} + X$$"
      ],
      "text/plain": [
       "     2*pi*f*t_0    \n",
       "- X*e           + X"
      ]
     },
     "execution_count": 153,
     "metadata": {},
     "output_type": "execute_result"
    }
   ],
   "source": [
    "Y = X - X*exp(-2*pi*f*-t0)\n",
    "Y"
   ]
  },
  {
   "cell_type": "code",
   "execution_count": 154,
   "metadata": {},
   "outputs": [
    {
     "data": {
      "image/png": "[encoded data removed]",
      "text/latex": [
       "$$- e^{2 \\pi f t_{0}} + 1$$"
      ],
      "text/plain": [
       "   2*pi*f*t_0    \n",
       "- e           + 1"
      ]
     },
     "execution_count": 154,
     "metadata": {},
     "output_type": "execute_result"
    }
   ],
   "source": [
    "hf = Y/X\n",
    "hf.simplify()"
   ]
  },
  {
   "cell_type": "code",
   "execution_count": 155,
   "metadata": {},
   "outputs": [
    {
     "data": {
      "image/png": "[encoded data removed]",
      "text/latex": [
       "$$\\frac{2 \\lambda^{2}}{4 \\pi^{2} f^{2} + \\lambda^{2}}$$"
      ],
      "text/plain": [
       "            2     \n",
       "    2*lambda      \n",
       "------------------\n",
       "    2  2         2\n",
       "4*pi *f  + lambda "
      ]
     },
     "execution_count": 155,
     "metadata": {},
     "output_type": "execute_result"
    }
   ],
   "source": [
    "Sx = fourier_transform(Rx, tau, f)\n",
    "Sx"
   ]
  },
  {
   "cell_type": "code",
   "execution_count": 167,
   "metadata": {},
   "outputs": [
    {
     "data": {
      "image/png": "[encoded data removed]",
      "text/latex": [
       "$$\\frac{2 \\lambda^{2} e^{2 i \\pi f t_{0}}}{4 \\pi^{2} f^{2} + \\lambda^{2}}$$"
      ],
      "text/plain": [
       "        2  2*I*pi*f*t_0\n",
       "2*lambda *e            \n",
       "-----------------------\n",
       "       2  2         2  \n",
       "   4*pi *f  + lambda   "
      ]
     },
     "execution_count": 167,
     "metadata": {},
     "output_type": "execute_result"
    }
   ],
   "source": [
    "# OU: para a entrada que sofreu um shift\n",
    "Sx_1 = fourier_transform(Rx.subs(tau, tau+ t0), tau, f)\n",
    "Sx_1"
   ]
  },
  {
   "cell_type": "code",
   "execution_count": 236,
   "metadata": {},
   "outputs": [
    {
     "data": {
      "image/png": "[encoded data removed]",
      "text/latex": [
       "$$\\frac{2 \\lambda^{2}}{4 \\pi^{2} f^{2} + \\lambda^{2}} \\left(e^{4 \\pi f t_{0}} - 2 e^{2 \\pi f t_{0}} + 1\\right)$$"
      ],
      "text/plain": [
       "        2 / 4*pi*f*t_0      2*pi*f*t_0    \\\n",
       "2*lambda *\\e           - 2*e           + 1/\n",
       "-------------------------------------------\n",
       "                 2  2         2            \n",
       "             4*pi *f  + lambda             "
      ]
     },
     "execution_count": 236,
     "metadata": {},
     "output_type": "execute_result"
    }
   ],
   "source": [
    "Sy = Sx*(Abs(hf.simplify())**2).expand()\n",
    "Sy"
   ]
  },
  {
   "cell_type": "code",
   "execution_count": 246,
   "metadata": {},
   "outputs": [
    {
     "data": {
      "image/png": "[encoded data removed]",
      "text/latex": [
       "$$\\left ( g{\\left (t_{0} \\right )}, \\quad \\operatorname{g_{2}}{\\left (2 t_{0} \\right )}\\right )$$"
      ],
      "text/plain": [
       "(g(t_0), g2(2*t_0))"
      ]
     },
     "execution_count": 246,
     "metadata": {},
     "output_type": "execute_result"
    }
   ],
   "source": [
    "g = Function('g')(t0)\n",
    "g2 = Function('g2')(2*t0)\n",
    "g,g2"
   ]
  },
  {
   "cell_type": "code",
   "execution_count": 237,
   "metadata": {},
   "outputs": [
    {
     "name": "stdout",
     "output_type": "stream",
     "text": [
      "2*lambda**2*(exp(4*pi*f*t_0) - 2*exp(2*pi*f*t_0) + 1)/(4*pi**2*f**2 + lambda**2)\n"
     ]
    }
   ],
   "source": [
    "print(Sy)"
   ]
  },
  {
   "cell_type": "code",
   "execution_count": 247,
   "metadata": {},
   "outputs": [
    {
     "data": {
      "image/png": "[encoded data removed]",
      "text/latex": [
       "$$\\left ( \\frac{2 \\lambda^{2} \\operatorname{g_{2}}{\\left (2 t_{0} \\right )}}{4 \\pi^{2} f^{2} + \\lambda^{2}}, \\quad - \\frac{4 \\lambda^{2} g{\\left (t_{0} \\right )}}{4 \\pi^{2} f^{2} + \\lambda^{2}}, \\quad \\frac{2 \\lambda^{2}}{4 \\pi^{2} f^{2} + \\lambda^{2}}\\right )$$"
      ],
      "text/plain": [
       "         2                     2                      2      \n",
       " 2*lambda *g2(2*t_0)  -4*lambda *g(t_0)       2*lambda       \n",
       "(-------------------, ------------------, ------------------)\n",
       "      2  2         2      2  2         2      2  2         2 \n",
       "  4*pi *f  + lambda   4*pi *f  + lambda   4*pi *f  + lambda  "
      ]
     },
     "execution_count": 247,
     "metadata": {},
     "output_type": "execute_result"
    }
   ],
   "source": [
    "S1 = (2*lamb**2)*g2/(4*pi**2*f**2 + lamb**2)\n",
    "S2 = -(2*lamb**2)*2*g/(4*pi**2*f**2 + lamb**2)\n",
    "S3 = 1*(2*lamb**2)/(4*pi**2*f**2 + lamb**2)\n",
    "S1, S2, S3"
   ]
  },
  {
   "cell_type": "code",
   "execution_count": 248,
   "metadata": {},
   "outputs": [
    {
     "data": {
      "image/png": "[encoded data removed]",
      "text/latex": [
       "$$- 2 \\lambda g{\\left (t_{0} \\right )} e^{- \\lambda \\tau} + \\lambda \\operatorname{g_{2}}{\\left (2 t_{0} \\right )} e^{- \\lambda \\tau} + \\lambda e^{- \\lambda \\tau}$$"
      ],
      "text/plain": [
       "                   -lambda*tau                     -lambda*tau           -lambda*tau\n",
       "- 2*lambda*g(t_0)*e            + lambda*g2(2*t_0)*e            + lambda*e           "
      ]
     },
     "execution_count": 248,
     "metadata": {},
     "output_type": "execute_result"
    }
   ],
   "source": [
    "inverse_fourier_transform(S1,f,tau) + inverse_fourier_transform(S2,f,tau)+ inverse_fourier_transform(S3,f,tau)"
   ]
  },
  {
   "cell_type": "code",
   "execution_count": 249,
   "metadata": {},
   "outputs": [
    {
     "name": "stdout",
     "output_type": "stream",
     "text": [
      "-2*lambda*g(t_0)*exp(-lambda*tau) + lambda*g2(2*t_0)*exp(-lambda*tau) + lambda*exp(-lambda*tau)\n"
     ]
    }
   ],
   "source": [
    "print(inverse_fourier_transform(S1,f,tau) + inverse_fourier_transform(S2,f,tau)+ inverse_fourier_transform(S3,f,tau))"
   ]
  },
  {
   "cell_type": "code",
   "execution_count": 252,
   "metadata": {},
   "outputs": [
    {
     "data": {
      "image/png": "[encoded data removed]",
      "text/latex": [
       "$$100 e^{- 100 \\tau - 20.0 \\pi} - 200 e^{- 100 \\tau - 10.0 \\pi} + 100 e^{- 100 \\tau}$$"
      ],
      "text/plain": [
       "     -100*tau - 20.0*pi        -100*tau - 10.0*pi        -100*tau\n",
       "100*e                   - 200*e                   + 100*e        "
      ]
     },
     "execution_count": 252,
     "metadata": {},
     "output_type": "execute_result"
    }
   ],
   "source": [
    "Ry = -2*lamb*exp(-lamb*tau).subs(tau, tau + t0) + lamb*exp(-lamb*tau).subs(tau, tau +2*t0) + lamb*exp(-lamb*tau)\n",
    "Ry.subs(lamb,100).subs(t0,0.1*pi)"
   ]
  },
  {
   "cell_type": "code",
   "execution_count": 169,
   "metadata": {},
   "outputs": [
    {
     "data": {
      "image/png": "[encoded data removed]",
      "text/latex": [
       "$$0$$"
      ],
      "text/plain": [
       "0"
      ]
     },
     "execution_count": 169,
     "metadata": {},
     "output_type": "execute_result"
    }
   ],
   "source": [
    "mu_x = 0\n",
    "\n",
    "mu_y = mu_x*hf.subs(f,0)\n",
    "mu_y"
   ]
  },
  {
   "cell_type": "code",
   "execution_count": 277,
   "metadata": {},
   "outputs": [
    {
     "data": {
      "image/png": "[encoded data removed]",
      "text/latex": [
       "$$\\frac{\\sqrt{2}}{2 \\sqrt{\\pi} \\sigma} e^{- \\frac{\\left(- \\mu + x\\right)^{2}}{2 \\sigma^{2}}}$$"
      ],
      "text/plain": [
       "                 2 \n",
       "       -(-mu + x)  \n",
       "       ------------\n",
       "                2  \n",
       "  ___    2*sigma   \n",
       "\\/ 2 *e            \n",
       "-------------------\n",
       "       ____        \n",
       "   2*\\/ pi *sigma  "
      ]
     },
     "execution_count": 277,
     "metadata": {},
     "output_type": "execute_result"
    }
   ],
   "source": [
    "#PDF\n",
    "from sympy import sqrt\n",
    "sigma = Symbol('sigma')\n",
    "x = Symbol('x')\n",
    "mu = Symbol('mu')\n",
    "f = (1/sigma/sqrt(2*pi))*exp(-Rational(1,2)*((x-mu)/sigma)**2)\n",
    "f"
   ]
  },
  {
   "cell_type": "code",
   "execution_count": 278,
   "metadata": {},
   "outputs": [
    {
     "data": {
      "image/png": "[encoded data removed]",
      "text/latex": [
       "$$\\lambda - 2 \\lambda e^{- \\lambda t_{0}} + \\lambda e^{- 2 \\lambda t_{0}}$$"
      ],
      "text/plain": [
       "                   -lambda*t_0           -2*lambda*t_0\n",
       "lambda - 2*lambda*e            + lambda*e             "
      ]
     },
     "execution_count": 278,
     "metadata": {},
     "output_type": "execute_result"
    }
   ],
   "source": [
    "var = Ry.subs(tau,0) - mu_y**2\n",
    "var"
   ]
  },
  {
   "cell_type": "code",
   "execution_count": 279,
   "metadata": {},
   "outputs": [
    {
     "data": {
      "image/png": "[encoded data removed]",
      "text/latex": [
       "$$\\frac{\\sqrt{2} e^{- \\frac{x^{2}}{2 \\left(\\lambda - 2 \\lambda e^{- \\lambda t_{0}} + \\lambda e^{- 2 \\lambda t_{0}}\\right)}}}{2 \\sqrt{\\pi} \\sqrt{\\lambda - 2 \\lambda e^{- \\lambda t_{0}} + \\lambda e^{- 2 \\lambda t_{0}}}}$$"
      ],
      "text/plain": [
       "                                     2                              \n",
       "                                   -x                               \n",
       "        ----------------------------------------------------------  \n",
       "          /                   -lambda*t_0           -2*lambda*t_0\\  \n",
       "   ___  2*\\lambda - 2*lambda*e            + lambda*e             /  \n",
       " \\/ 2 *e                                                            \n",
       "--------------------------------------------------------------------\n",
       "            ________________________________________________________\n",
       "    ____   /                    -lambda*t_0           -2*lambda*t_0 \n",
       "2*\\/ pi *\\/  lambda - 2*lambda*e            + lambda*e              "
      ]
     },
     "execution_count": 279,
     "metadata": {},
     "output_type": "execute_result"
    }
   ],
   "source": [
    "f_y = f.subs(mu,mu_y).subs(sigma, sqrt(var))\n",
    "f_y"
   ]
  },
  {
   "cell_type": "code",
   "execution_count": 280,
   "metadata": {},
   "outputs": [
    {
     "data": {
      "image/png": "[encoded data removed]",
      "text/latex": [
       "$$\\frac{\\operatorname{erf}{\\left (\\frac{\\sqrt{2} t}{2} \\sqrt{\\frac{1}{\\lambda - 2 \\lambda e^{- \\lambda t_{0}} + \\lambda e^{- 2 \\lambda t_{0}}}} \\right )}}{2 \\sqrt{\\lambda - 2 \\lambda e^{- \\lambda t_{0}} + \\lambda e^{- 2 \\lambda t_{0}}} \\sqrt{\\frac{1}{\\lambda - 2 \\lambda e^{- \\lambda t_{0}} + \\lambda e^{- 2 \\lambda t_{0}}}}}$$"
      ],
      "text/plain": [
       "                            /             ________________________________________________________\\                        \n",
       "                            |  ___       /                           1                            |                        \n",
       "                            |\\/ 2 *t*   /  ------------------------------------------------------ |                        \n",
       "                            |          /                      -lambda*t_0           -2*lambda*t_0 |                        \n",
       "                            |        \\/    lambda - 2*lambda*e            + lambda*e              |                        \n",
       "                         erf|---------------------------------------------------------------------|                        \n",
       "                            \\                                  2                                  /                        \n",
       "---------------------------------------------------------------------------------------------------------------------------\n",
       "     ________________________________________________________      ________________________________________________________\n",
       "    /                    -lambda*t_0           -2*lambda*t_0      /                           1                            \n",
       "2*\\/  lambda - 2*lambda*e            + lambda*e              *   /  ------------------------------------------------------ \n",
       "                                                                /                      -lambda*t_0           -2*lambda*t_0 \n",
       "                                                              \\/    lambda - 2*lambda*e            + lambda*e              "
      ]
     },
     "execution_count": 280,
     "metadata": {},
     "output_type": "execute_result"
    }
   ],
   "source": [
    "from sympy import Integral, erfc\n",
    "\n",
    "F_y = Integral(f_y,(x,0,t)).doit()\n",
    "F_y"
   ]
  },
  {
   "cell_type": "markdown",
   "metadata": {},
   "source": [
    "# Exercise 10"
   ]
  },
  {
   "cell_type": "code",
   "execution_count": 281,
   "metadata": {},
   "outputs": [],
   "source": [
    "from sympy import Symbol, DiracDelta, pi, Heaviside, exp, apart, Abs, I\n",
    "K = Symbol('K')\n",
    "t = Symbol('t')\n",
    "tau = Symbol('tau')\n",
    "w = Symbol('omega', real = True)\n",
    "f = Symbol('f', real = True, positive = True)\n",
    "alpha = Symbol('alpha')"
   ]
  },
  {
   "cell_type": "code",
   "execution_count": 282,
   "metadata": {},
   "outputs": [
    {
     "data": {
      "image/png": "[encoded data removed]",
      "text/latex": [
       "$$\\left ( K, \\quad \\frac{2 \\alpha}{\\alpha^{2} + \\omega^{2}}\\right )$$"
      ],
      "text/plain": [
       "        2*alpha     \n",
       "(K, ---------------)\n",
       "         2        2 \n",
       "    alpha  + omega  "
      ]
     },
     "execution_count": 282,
     "metadata": {},
     "output_type": "execute_result"
    }
   ],
   "source": [
    "S_1 = K\n",
    "\n",
    "S_2 = 2*alpha/(alpha**2 + w**2)\n",
    "\n",
    "S_1, S_2"
   ]
  },
  {
   "cell_type": "code",
   "execution_count": 283,
   "metadata": {},
   "outputs": [],
   "source": [
    "#y(t) = y1(t) + y2(t)\n",
    "#pela lei dos nós temos que:"
   ]
  },
  {
   "cell_type": "code",
   "execution_count": 284,
   "metadata": {},
   "outputs": [
    {
     "data": {
      "image/png": "[encoded data removed]",
      "text/latex": [
       "$$\\left ( \\frac{1}{9 i \\omega + 3}, \\quad \\frac{1}{6 i \\omega + 2}\\right )$$"
      ],
      "text/plain": [
       "       1              1       \n",
       "(-------------, -------------)\n",
       " 9*I*omega + 3  6*I*omega + 2 "
      ]
     },
     "execution_count": 284,
     "metadata": {},
     "output_type": "execute_result"
    }
   ],
   "source": [
    "h1_w = 1/(3*(I*3*w +1))\n",
    "h2_w = 1/(2*(3*I*w +1))\n",
    "h1_w, h2_w"
   ]
  },
  {
   "cell_type": "code",
   "execution_count": 285,
   "metadata": {},
   "outputs": [
    {
     "data": {
      "image/png": "[encoded data removed]",
      "text/latex": [
       "$$\\left ( \\frac{K}{81 \\omega^{2} + 9}, \\quad \\frac{2 \\alpha}{\\left(\\alpha^{2} + \\omega^{2}\\right) \\left(36 \\omega^{2} + 4\\right)}\\right )$$"
      ],
      "text/plain": [
       "       K                     2*alpha              \n",
       "(-------------, ---------------------------------)\n",
       "         2      /     2        2\\ /        2    \\ \n",
       " 81*omega  + 9  \\alpha  + omega /*\\36*omega  + 4/ "
      ]
     },
     "execution_count": 285,
     "metadata": {},
     "output_type": "execute_result"
    }
   ],
   "source": [
    "from sympy import fourier_transform, inverse_fourier_transform\n",
    "\n",
    "S_y1 = S_1*Abs(h1_w)**2\n",
    "S_y2 = S_2*Abs(h2_w)**2\n",
    "\n",
    "S_y1, S_y2"
   ]
  },
  {
   "cell_type": "code",
   "execution_count": 286,
   "metadata": {},
   "outputs": [
    {
     "data": {
      "image/png": "[encoded data removed]",
      "text/latex": [
       "$$\\frac{K}{81 \\omega^{2} + 9} + \\frac{2 \\alpha}{\\left(\\alpha^{2} + \\omega^{2}\\right) \\left(36 \\omega^{2} + 4\\right)}$$"
      ],
      "text/plain": [
       "      K                      2*alpha             \n",
       "------------- + ---------------------------------\n",
       "        2       /     2        2\\ /        2    \\\n",
       "81*omega  + 9   \\alpha  + omega /*\\36*omega  + 4/"
      ]
     },
     "execution_count": 286,
     "metadata": {},
     "output_type": "execute_result"
    }
   ],
   "source": [
    "# procesos independentes:\n",
    "S_y = S_y1 + S_y2\n",
    "S_y"
   ]
  },
  {
   "cell_type": "code",
   "execution_count": 287,
   "metadata": {},
   "outputs": [
    {
     "data": {
      "image/png": "[encoded data removed]",
      "text/latex": [
       "$$\\frac{K}{324 \\pi^{2} f^{2} + 9} + \\frac{2 \\alpha}{\\left(\\alpha^{2} + 4 \\pi^{2} f^{2}\\right) \\left(144 \\pi^{2} f^{2} + 4\\right)}$$"
      ],
      "text/plain": [
       "      K                        2*alpha               \n",
       "-------------- + ------------------------------------\n",
       "      2  2       /     2       2  2\\ /      2  2    \\\n",
       "324*pi *f  + 9   \\alpha  + 4*pi *f /*\\144*pi *f  + 4/"
      ]
     },
     "execution_count": 287,
     "metadata": {},
     "output_type": "execute_result"
    }
   ],
   "source": [
    "S_y2 = S_y.subs(w, 2*pi*f)\n",
    "S_y2"
   ]
  },
  {
   "cell_type": "code",
   "execution_count": 288,
   "metadata": {},
   "outputs": [
    {
     "name": "stdout",
     "output_type": "stream",
     "text": [
      "K/(324*pi**2*f**2 + 9) + 2*alpha/((alpha**2 + 4*pi**2*f**2)*(144*pi**2*f**2 + 4))\n"
     ]
    }
   ],
   "source": [
    "print(S_y2)"
   ]
  },
  {
   "cell_type": "code",
   "execution_count": 289,
   "metadata": {},
   "outputs": [
    {
     "data": {
      "image/png": "[encoded data removed]",
      "text/latex": [
       "$$\\frac{K}{54} e^{- \\frac{\\tau}{3}}$$"
      ],
      "text/plain": [
       "   -tau \n",
       "   -----\n",
       "     3  \n",
       "K*e     \n",
       "--------\n",
       "   54   "
      ]
     },
     "execution_count": 289,
     "metadata": {},
     "output_type": "execute_result"
    }
   ],
   "source": [
    "inverse_fourier_transform(K/(324*pi**2*f**2 + 9),f,tau)"
   ]
  },
  {
   "cell_type": "code",
   "execution_count": 293,
   "metadata": {},
   "outputs": [
    {
     "data": {
      "image/png": "[encoded data removed]",
      "text/latex": [
       "$$\\frac{3 \\alpha e^{- \\frac{\\tau}{3}}}{4 \\left(9 \\alpha^{2} - 1\\right)} - \\frac{e^{- \\alpha \\tau}}{4 \\left(9 \\alpha^{2} - 1\\right)}$$"
      ],
      "text/plain": [
       "          -tau                     \n",
       "          -----                    \n",
       "            3         -alpha*tau   \n",
       " 3*alpha*e           e             \n",
       "---------------- - ----------------\n",
       "  /       2    \\     /       2    \\\n",
       "4*\\9*alpha  - 1/   4*\\9*alpha  - 1/"
      ]
     },
     "execution_count": 293,
     "metadata": {},
     "output_type": "execute_result"
    }
   ],
   "source": [
    "k = Symbol('k')\n",
    "inverse_fourier_transform((2*alpha/((alpha**2 + 4*k**2*f**2)*(144*k**2*f**2 + 4))).apart(f),f,tau).subs(k,pi)"
   ]
  },
  {
   "cell_type": "code",
   "execution_count": 294,
   "metadata": {},
   "outputs": [
    {
     "data": {
      "image/png": "[encoded data removed]",
      "text/latex": [
       "$$\\frac{K}{54} e^{- \\frac{\\tau}{3}} + \\frac{3 \\alpha e^{- \\frac{\\tau}{3}}}{4 \\left(9 \\alpha^{2} - 1\\right)} - \\frac{e^{- \\alpha \\tau}}{4 \\left(9 \\alpha^{2} - 1\\right)}$$"
      ],
      "text/plain": [
       "   -tau              -tau                     \n",
       "   -----             -----                    \n",
       "     3                 3         -alpha*tau   \n",
       "K*e         3*alpha*e           e             \n",
       "-------- + ---------------- - ----------------\n",
       "   54        /       2    \\     /       2    \\\n",
       "           4*\\9*alpha  - 1/   4*\\9*alpha  - 1/"
      ]
     },
     "execution_count": 294,
     "metadata": {},
     "output_type": "execute_result"
    }
   ],
   "source": [
    "R_y = inverse_fourier_transform(K/(324*pi**2*f**2 + 9),f,tau)+inverse_fourier_transform((2*alpha/((alpha**2 + 4*k**2*f**2)*(144*k**2*f**2 + 4))).apart(f),f,tau).subs(k,pi)\n",
    "R_y"
   ]
  },
  {
   "cell_type": "code",
   "execution_count": 295,
   "metadata": {},
   "outputs": [
    {
     "data": {
      "image/png": "[encoded data removed]",
      "text/latex": [
       "$$\\frac{K}{54} + \\frac{3 \\alpha}{4 \\left(9 \\alpha^{2} - 1\\right)} - \\frac{1}{4 \\left(9 \\alpha^{2} - 1\\right)}$$"
      ],
      "text/plain": [
       "K        3*alpha               1        \n",
       "-- + ---------------- - ----------------\n",
       "54     /       2    \\     /       2    \\\n",
       "     4*\\9*alpha  - 1/   4*\\9*alpha  - 1/"
      ]
     },
     "execution_count": 295,
     "metadata": {},
     "output_type": "execute_result"
    }
   ],
   "source": [
    "Pot_med = R_y.subs(tau,0)\n",
    "Pot_med"
   ]
  }
 ],
 "metadata": {
  "kernelspec": {
   "display_name": "Python 3",
   "language": "python",
   "name": "python3"
  },
  "language_info": {
   "codemirror_mode": {
    "name": "ipython",
    "version": 3
   },
   "file_extension": ".py",
   "mimetype": "text/x-python",
   "name": "python",
   "nbconvert_exporter": "python",
   "pygments_lexer": "ipython3",
   "version": "3.7.1"
  }
 },
 "nbformat": 4,
 "nbformat_minor": 2
}
