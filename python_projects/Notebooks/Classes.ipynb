{
 "cells": [
  {
   "cell_type": "markdown",
   "metadata": {},
   "source": [
    "# Creating Classes"
   ]
  },
  {
   "cell_type": "code",
   "execution_count": 60,
   "metadata": {},
   "outputs": [],
   "source": [
    "class MyClass:\n",
    "    MyVar = 0"
   ]
  },
  {
   "cell_type": "code",
   "execution_count": 62,
   "metadata": {},
   "outputs": [
    {
     "data": {
      "text/plain": [
       "0"
      ]
     },
     "execution_count": 62,
     "metadata": {},
     "output_type": "execute_result"
    }
   ],
   "source": [
    "MyInstance = MyClass()  \n",
    "MyInstance.MyVar\n",
    "#Objetos são criados ao instanciar uma classe!\n",
    "#instanciação é o processo de tomar o plano e definir \n",
    "#cada atributo e comportamento para que o objeto \n",
    "#resultante represente realmente um objeto"
   ]
  },
  {
   "cell_type": "code",
   "execution_count": 5,
   "metadata": {},
   "outputs": [
    {
     "data": {
      "text/plain": [
       "__main__.MyClass"
      ]
     },
     "execution_count": 5,
     "metadata": {},
     "output_type": "execute_result"
    }
   ],
   "source": [
    "MyInstance.__class__"
   ]
  },
  {
   "cell_type": "code",
   "execution_count": 6,
   "metadata": {},
   "outputs": [
    {
     "name": "stdout",
     "output_type": "stream",
     "text": [
      "['MyVar', '__class__', '__delattr__', '__dict__', '__dir__', '__doc__', '__eq__', '__format__', '__ge__', '__getattribute__', '__gt__', '__hash__', '__init__', '__init_subclass__', '__le__', '__lt__', '__module__', '__ne__', '__new__', '__reduce__', '__reduce_ex__', '__repr__', '__setattr__', '__sizeof__', '__str__', '__subclasshook__', '__weakref__']\n"
     ]
    }
   ],
   "source": [
    "print(dir(MyInstance))  #A list of built-in attributes"
   ]
  },
  {
   "cell_type": "code",
   "execution_count": 7,
   "metadata": {},
   "outputs": [
    {
     "name": "stdout",
     "output_type": "stream",
     "text": [
      "Help on class module in module builtins:\n",
      "\n",
      "__class__ = class module(object)\n",
      " |  __class__(name, doc=None)\n",
      " |  \n",
      " |  Create a module object.\n",
      " |  \n",
      " |  The name must be a string; the optional doc argument can have any type.\n",
      " |  \n",
      " |  Methods defined here:\n",
      " |  \n",
      " |  __delattr__(self, name, /)\n",
      " |      Implement delattr(self, name).\n",
      " |  \n",
      " |  __dir__(...)\n",
      " |      __dir__() -> list\n",
      " |      specialized dir() implementation\n",
      " |  \n",
      " |  __getattribute__(self, name, /)\n",
      " |      Return getattr(self, name).\n",
      " |  \n",
      " |  __init__(self, /, *args, **kwargs)\n",
      " |      Initialize self.  See help(type(self)) for accurate signature.\n",
      " |  \n",
      " |  __repr__(self, /)\n",
      " |      Return repr(self).\n",
      " |  \n",
      " |  __setattr__(self, name, value, /)\n",
      " |      Implement setattr(self, name, value).\n",
      " |  \n",
      " |  ----------------------------------------------------------------------\n",
      " |  Static methods defined here:\n",
      " |  \n",
      " |  __new__(*args, **kwargs) from builtins.type\n",
      " |      Create and return a new object.  See help(type) for accurate signature.\n",
      " |  \n",
      " |  ----------------------------------------------------------------------\n",
      " |  Data descriptors defined here:\n",
      " |  \n",
      " |  __dict__\n",
      "\n"
     ]
    }
   ],
   "source": [
    "help('__class__')"
   ]
  },
  {
   "cell_type": "markdown",
   "metadata": {},
   "source": [
    "# Class Methods"
   ]
  },
  {
   "cell_type": "code",
   "execution_count": 8,
   "metadata": {},
   "outputs": [],
   "source": [
    "class MyClass:\n",
    "    def SayHello():\n",
    "        print('Hello my friend!')"
   ]
  },
  {
   "cell_type": "code",
   "execution_count": 9,
   "metadata": {},
   "outputs": [
    {
     "name": "stdout",
     "output_type": "stream",
     "text": [
      "Hello my friend!\n"
     ]
    }
   ],
   "source": [
    "MyClass.SayHello()"
   ]
  },
  {
   "cell_type": "markdown",
   "metadata": {},
   "source": [
    "# Instance Methods"
   ]
  },
  {
   "cell_type": "code",
   "execution_count": 10,
   "metadata": {},
   "outputs": [],
   "source": [
    "class MyClass:\n",
    "    def SayHello(self):\n",
    "        print('xD Hello my friend!')"
   ]
  },
  {
   "cell_type": "code",
   "execution_count": 11,
   "metadata": {},
   "outputs": [],
   "source": [
    "MyInstance = MyClass()"
   ]
  },
  {
   "cell_type": "code",
   "execution_count": 12,
   "metadata": {},
   "outputs": [
    {
     "name": "stdout",
     "output_type": "stream",
     "text": [
      "xD Hello my friend!\n"
     ]
    }
   ],
   "source": [
    "MyInstance.SayHello()"
   ]
  },
  {
   "cell_type": "markdown",
   "metadata": {},
   "source": [
    "# Working with constructors\n",
    "\n",
    "A constructor is a special kind of method that Python calls when it instantiates an  object by using the definitions found in your class"
   ]
  },
  {
   "cell_type": "code",
   "execution_count": 19,
   "metadata": {},
   "outputs": [],
   "source": [
    "class Myclass:\n",
    "    def __init__(self, Name='there'):\n",
    "        self.Greeting = Name + \"!\"\n",
    "    def SayHello(self):\n",
    "        print(f'Hello {self.Greeting}')"
   ]
  },
  {
   "cell_type": "code",
   "execution_count": 20,
   "metadata": {},
   "outputs": [],
   "source": [
    "MyInstance = Myclass('Anderson')\n",
    "MyInstance2 = Myclass('Nestor')"
   ]
  },
  {
   "cell_type": "code",
   "execution_count": 21,
   "metadata": {},
   "outputs": [
    {
     "name": "stdout",
     "output_type": "stream",
     "text": [
      "Hello Anderson!\n"
     ]
    }
   ],
   "source": [
    "MyInstance.SayHello()"
   ]
  },
  {
   "cell_type": "code",
   "execution_count": 22,
   "metadata": {},
   "outputs": [
    {
     "name": "stdout",
     "output_type": "stream",
     "text": [
      "Hello Nestor!\n"
     ]
    }
   ],
   "source": [
    "MyInstance2.SayHello()"
   ]
  },
  {
   "cell_type": "code",
   "execution_count": 23,
   "metadata": {},
   "outputs": [
    {
     "name": "stdout",
     "output_type": "stream",
     "text": [
      "Hello Harry Potter\n"
     ]
    }
   ],
   "source": [
    "MyInstance.Greeting = 'Harry Potter'\n",
    "MyInstance.SayHello()"
   ]
  },
  {
   "cell_type": "markdown",
   "metadata": {},
   "source": [
    "# Working with variable\n",
    "## class variables\n",
    "Class variables provide global access to data.\n",
    "> Avoid class variables: unsafe;\n",
    "\n",
    "> Always initialize class variables to a known good value in the constructor code."
   ]
  },
  {
   "cell_type": "code",
   "execution_count": 27,
   "metadata": {},
   "outputs": [],
   "source": [
    "class Myclass:\n",
    "    Greeting=''\n",
    "    def SayHello(self):\n",
    "        print(f'Hello {self.Greeting}')"
   ]
  },
  {
   "cell_type": "code",
   "execution_count": 28,
   "metadata": {},
   "outputs": [],
   "source": [
    "MyInstance = Myclass()"
   ]
  },
  {
   "cell_type": "code",
   "execution_count": 31,
   "metadata": {},
   "outputs": [],
   "source": [
    "Myclass.Greeting='Tristan'"
   ]
  },
  {
   "cell_type": "code",
   "execution_count": 32,
   "metadata": {},
   "outputs": [
    {
     "name": "stdout",
     "output_type": "stream",
     "text": [
      "Hello Tristan\n"
     ]
    }
   ],
   "source": [
    "MyInstance.SayHello()"
   ]
  },
  {
   "cell_type": "markdown",
   "metadata": {},
   "source": [
    "# Creating instance variables "
   ]
  },
  {
   "cell_type": "code",
   "execution_count": 33,
   "metadata": {},
   "outputs": [],
   "source": [
    "class MyClass:\n",
    "    def doAdd(self, Value1=0, Value2=0):\n",
    "        Sum = Value1 + Value2\n",
    "        print(f'The sum of {Value1} plus {Value2} is {Sum}.')"
   ]
  },
  {
   "cell_type": "code",
   "execution_count": 34,
   "metadata": {},
   "outputs": [
    {
     "name": "stdout",
     "output_type": "stream",
     "text": [
      "The sum of 10 plus 2 is 12.\n"
     ]
    }
   ],
   "source": [
    "MyInstance = MyClass()   #three instance variables: Value1, Value2 and Sum\n",
    "MyInstance.doAdd(10,2)"
   ]
  },
  {
   "cell_type": "markdown",
   "metadata": {},
   "source": [
    "# Using methods with variable argument lists\n",
    "\n",
    "*args: Provides a list of unnamed arguments;\n",
    "\n",
    "**kwargs: Provides a list of named arguments."
   ]
  },
  {
   "cell_type": "code",
   "execution_count": 36,
   "metadata": {},
   "outputs": [],
   "source": [
    "class MyClass:\n",
    "    def PrintList1(*args):\n",
    "        for count, item in enumerate(args):\n",
    "            print(f'{count}.{item}.')\n",
    "    def PrintList2(**kwargs):\n",
    "        for name, value in kwargs.items():\n",
    "            print(f'{name} likes {value}.')"
   ]
  },
  {
   "cell_type": "code",
   "execution_count": 39,
   "metadata": {},
   "outputs": [
    {
     "name": "stdout",
     "output_type": "stream",
     "text": [
      "0.Red\n",
      "1.Blue\n",
      "2.Green\n"
     ]
    }
   ],
   "source": [
    "MyClass.PrintList1(\"Red\", \"Blue\", \"Green\")"
   ]
  },
  {
   "cell_type": "code",
   "execution_count": 40,
   "metadata": {},
   "outputs": [
    {
     "name": "stdout",
     "output_type": "stream",
     "text": [
      "George likes Red.\n",
      "Sue likes Blue.\n",
      "Zarah likes Green.\n"
     ]
    }
   ],
   "source": [
    "MyClass.PrintList2(George=\"Red\", Sue=\"Blue\", Zarah=\"Green\")"
   ]
  },
  {
   "cell_type": "markdown",
   "metadata": {},
   "source": [
    "# Overloading operators"
   ]
  },
  {
   "cell_type": "code",
   "execution_count": 63,
   "metadata": {},
   "outputs": [],
   "source": [
    "class MyClass:   \n",
    "    def __init__(self, *args):\n",
    "        self.Input = args   \n",
    "    def __add__(self, other):    #The __add__() method then returns the                                \n",
    "        newObject = MyClass()  #new combined object to the caller\n",
    "        newObject.Input = self.Input + other.Input\n",
    "        return newObject\n",
    "    def __str__(self):# This method converts a MyClass object into a string\n",
    "        newObject=''\n",
    "        for item in self.Input:\n",
    "            newObject +=item\n",
    "            newObject += ' '\n",
    "        return newObject"
   ]
  },
  {
   "cell_type": "code",
   "execution_count": 64,
   "metadata": {},
   "outputs": [
    {
     "name": "stdout",
     "output_type": "stream",
     "text": [
      "Red Purple Yellow Blue Green Pink \n"
     ]
    }
   ],
   "source": [
    "Value1 = MyClass('Red', 'Purple', 'Yellow')\n",
    "Value2 = MyClass('Blue', 'Green', 'Pink')\n",
    "Value3 = Value1 + Value2\n",
    "print(Value3)"
   ]
  },
  {
   "cell_type": "markdown",
   "metadata": {},
   "source": [
    "# Creating a Class"
   ]
  },
  {
   "cell_type": "code",
   "execution_count": 68,
   "metadata": {},
   "outputs": [],
   "source": [
    "class Cadastro:\n",
    "    def __init__(self, Name, Age):\n",
    "        self.Name = Name\n",
    "        self.Age = Age\n",
    "    def getName(self):\n",
    "        return self.Name\n",
    "    \n",
    "    def setName(self, newName):\n",
    "        self.Name= newName\n",
    "        \n",
    "    def getAge(self):\n",
    "        return self.Age\n",
    "    \n",
    "    def setAge(self, newAge):\n",
    "        self.Age= newAge\n",
    "        \n",
    "    def __str__(self):\n",
    "        return f'{self.Name} tem {self.Age} anos de idade'"
   ]
  },
  {
   "cell_type": "code",
   "execution_count": 70,
   "metadata": {},
   "outputs": [
    {
     "name": "stdout",
     "output_type": "stream",
     "text": [
      "Joao tem 18 anos de idade\n"
     ]
    }
   ],
   "source": [
    "Joao = Cadastro('Joao', 18)\n",
    "print(Joao)"
   ]
  },
  {
   "cell_type": "markdown",
   "metadata": {},
   "source": [
    "# Extending Classes >> Inheritance"
   ]
  },
  {
   "cell_type": "code",
   "execution_count": 58,
   "metadata": {},
   "outputs": [],
   "source": [
    "class Animal:\n",
    "    def __init__(self, Name, Type, Legs):\n",
    "        self.Name = Name\n",
    "        self.Legs = Legs\n",
    "        self.Type = Type\n",
    "        \n",
    "    def getName(self):\n",
    "        return self.Name\n",
    "    \n",
    "    def setName(self, newName):\n",
    "        self.Name= newName\n",
    "        \n",
    "    def getType(self):\n",
    "        return self.Type\n",
    "    \n",
    "    def setType(self, newType):\n",
    "        self.Type= newType\n",
    "        \n",
    "    def getNumFeets(self):\n",
    "        return self.Legs\n",
    "    \n",
    "    def setNumFeets(self, newLegs):\n",
    "        self.Legs = newLegs\n",
    "        \n",
    "    def __str__(self):\n",
    "        return f'{self.Name} é do tipo {self.Type} e tem {self.Legs} patas'"
   ]
  },
  {
   "cell_type": "code",
   "execution_count": 59,
   "metadata": {},
   "outputs": [
    {
     "name": "stdout",
     "output_type": "stream",
     "text": [
      "Elefante é do tipo Mamífero e tem 4 patas\n"
     ]
    }
   ],
   "source": [
    "Elefante = Animal('Elefante', 'Mamífero', 4)\n",
    "print(Elefante)"
   ]
  },
  {
   "cell_type": "code",
   "execution_count": 31,
   "metadata": {},
   "outputs": [],
   "source": [
    "class Chicken(Animal):\n",
    "    def __init__(self):\n",
    "        super().__init__('Galinha', 'Ave', 2)\n",
    "        \n",
    "    def setName(self, newName):\n",
    "        print(f'a classe Chicken sempre terá nome {self.Name}')\n",
    "        \n",
    "    def setType(self, newType):\n",
    "        print(f'a classe Chicken sempre será do tipo {self.Type}')\n",
    "        \n",
    "    def setNumFeets(self, newLegs):\n",
    "        print(f'a classe Chicken sempre terá {self.Legs} patas')"
   ]
  },
  {
   "cell_type": "code",
   "execution_count": 34,
   "metadata": {},
   "outputs": [
    {
     "name": "stdout",
     "output_type": "stream",
     "text": [
      "Galinha é do tipo Ave e tem 2 patas\n"
     ]
    }
   ],
   "source": [
    "chicken = Chicken()\n",
    "print(chicken)"
   ]
  },
  {
   "cell_type": "code",
   "execution_count": 35,
   "metadata": {},
   "outputs": [
    {
     "name": "stdout",
     "output_type": "stream",
     "text": [
      "a classe Chicken sempre terá nome Galinha\n"
     ]
    }
   ],
   "source": [
    "chicken.setName('Vaca')"
   ]
  },
  {
   "cell_type": "code",
   "execution_count": 60,
   "metadata": {},
   "outputs": [],
   "source": [
    "Elefante.Name='Teste'"
   ]
  },
  {
   "cell_type": "code",
   "execution_count": 61,
   "metadata": {},
   "outputs": [
    {
     "name": "stdout",
     "output_type": "stream",
     "text": [
      "Teste é do tipo Mamífero e tem 4 patas\n"
     ]
    }
   ],
   "source": [
    "print(Elefante)"
   ]
  },
  {
   "cell_type": "code",
   "execution_count": 135,
   "metadata": {},
   "outputs": [],
   "source": [
    "class Animal:\n",
    "    def __init__(self, Name, Type, Legs):\n",
    "        self.__Name = Name #atributo privado\n",
    "        self.Legs = Legs   #atributo de instancia não privado\n",
    "        self.__Type = Type #atributo privado\n",
    "        \n",
    "    def getName(self): \n",
    "        return self.__Name\n",
    "    \n",
    "    def __setName(self, newName): # método privado\n",
    "        self.__Name = newName\n",
    "        \n",
    "    def colocaApelido(self, apelido):\n",
    "        self.__setName(apelido)\n",
    "    \n",
    "    def __str__(self):\n",
    "        return f'{self.__Name} é do tipo {self.__Type} e tem {self.Legs} patas'"
   ]
  },
  {
   "cell_type": "code",
   "execution_count": 136,
   "metadata": {},
   "outputs": [
    {
     "name": "stdout",
     "output_type": "stream",
     "text": [
      "Elefante é do tipo Mamífero e tem 4 patas\n"
     ]
    }
   ],
   "source": [
    "Elefante = Animal('Elefante', 'Mamífero', 4)\n",
    "print(Elefante)"
   ]
  },
  {
   "cell_type": "code",
   "execution_count": 137,
   "metadata": {},
   "outputs": [],
   "source": [
    "Elefante.colocaApelido('Dumbo')"
   ]
  },
  {
   "cell_type": "code",
   "execution_count": 138,
   "metadata": {},
   "outputs": [
    {
     "name": "stdout",
     "output_type": "stream",
     "text": [
      "Dumbo\n"
     ]
    }
   ],
   "source": [
    "print(Elefante.getName())"
   ]
  },
  {
   "cell_type": "code",
   "execution_count": 139,
   "metadata": {},
   "outputs": [],
   "source": [
    "Elefante.colocaApelido('Dumbo Tri pé')"
   ]
  },
  {
   "cell_type": "code",
   "execution_count": 140,
   "metadata": {},
   "outputs": [],
   "source": [
    "Elefante.Legs = 3"
   ]
  },
  {
   "cell_type": "code",
   "execution_count": 141,
   "metadata": {},
   "outputs": [
    {
     "name": "stdout",
     "output_type": "stream",
     "text": [
      "Dumbo Tri pé é do tipo Mamífero e tem 3 patas\n"
     ]
    }
   ],
   "source": [
    "print(Elefante)"
   ]
  },
  {
   "cell_type": "code",
   "execution_count": null,
   "metadata": {},
   "outputs": [],
   "source": []
  }
 ],
 "metadata": {
  "kernelspec": {
   "display_name": "Python 3",
   "language": "python",
   "name": "python3"
  },
  "language_info": {
   "codemirror_mode": {
    "name": "ipython",
    "version": 3
   },
   "file_extension": ".py",
   "mimetype": "text/x-python",
   "name": "python",
   "nbconvert_exporter": "python",
   "pygments_lexer": "ipython3",
   "version": "3.7.1"
  }
 },
 "nbformat": 4,
 "nbformat_minor": 2
}
